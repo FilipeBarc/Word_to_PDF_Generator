{
 "cells": [
  {
   "cell_type": "code",
   "execution_count": 154,
   "id": "aec1e001",
   "metadata": {},
   "outputs": [],
   "source": [
    "import os, sys\n",
    "import numpy as np\n",
    "import pandas as pd\n",
    "from docxtpl import DocxTemplate\n",
    "import win32com.client as win32\n",
    "from docx2pdf import convert\n",
    "from PyPDF2 import PdfWriter, PdfReader"
   ]
  },
  {
   "cell_type": "code",
   "execution_count": 148,
   "id": "e405dcb3",
   "metadata": {},
   "outputs": [],
   "source": [
    "df = pd.read_excel('Dados_Participantes.xlsx')"
   ]
  },
  {
   "cell_type": "code",
   "execution_count": 149,
   "id": "35abb29e",
   "metadata": {},
   "outputs": [
    {
     "data": {
      "application/vnd.jupyter.widget-view+json": {
       "model_id": "cb90bed3c3ed4232a759243e6fa7e111",
       "version_major": 2,
       "version_minor": 0
      },
      "text/plain": [
       "  0%|          | 0/1 [00:00<?, ?it/s]"
      ]
     },
     "metadata": {},
     "output_type": "display_data"
    },
    {
     "data": {
      "application/vnd.jupyter.widget-view+json": {
       "model_id": "4527789749554732bf1fb04e6e5956cf",
       "version_major": 2,
       "version_minor": 0
      },
      "text/plain": [
       "  0%|          | 0/1 [00:00<?, ?it/s]"
      ]
     },
     "metadata": {},
     "output_type": "display_data"
    },
    {
     "data": {
      "application/vnd.jupyter.widget-view+json": {
       "model_id": "b89025f523b6413ba287588f8561ac3d",
       "version_major": 2,
       "version_minor": 0
      },
      "text/plain": [
       "  0%|          | 0/1 [00:00<?, ?it/s]"
      ]
     },
     "metadata": {},
     "output_type": "display_data"
    },
    {
     "data": {
      "application/vnd.jupyter.widget-view+json": {
       "model_id": "e1ddaa76d83745faa58a819c26256a8a",
       "version_major": 2,
       "version_minor": 0
      },
      "text/plain": [
       "  0%|          | 0/1 [00:00<?, ?it/s]"
      ]
     },
     "metadata": {},
     "output_type": "display_data"
    },
    {
     "data": {
      "application/vnd.jupyter.widget-view+json": {
       "model_id": "96747d924372459f98840492f13c676a",
       "version_major": 2,
       "version_minor": 0
      },
      "text/plain": [
       "  0%|          | 0/1 [00:00<?, ?it/s]"
      ]
     },
     "metadata": {},
     "output_type": "display_data"
    },
    {
     "data": {
      "application/vnd.jupyter.widget-view+json": {
       "model_id": "b8a2babf97644b0aaae0ca8ce82a8878",
       "version_major": 2,
       "version_minor": 0
      },
      "text/plain": [
       "  0%|          | 0/1 [00:00<?, ?it/s]"
      ]
     },
     "metadata": {},
     "output_type": "display_data"
    }
   ],
   "source": [
    "word = 'C:/Users/R5564655/Desktop/Retrospectiva/Base_word/'\n",
    "pdf_path = \"C:/Users/R5564655/Desktop/Retrospectiva/Base_PDF\"\n",
    "\n",
    "for i in df.index:\n",
    "    \n",
    "    doc = DocxTemplate('Retrospectiva.docx')\n",
    "    \n",
    "    CPF = str(df['CPF'][i])\n",
    "    nome = df['Nome'][i]\n",
    "    fam = df['NumIndicações'][i]\n",
    "    ben = df['NumBeneciarios'][i]\n",
    "    data = df['DataAdessao'][i]\n",
    "    mes = df['MesesAdesao'][i]\n",
    "    cont = \"{:.2f}\".format(df['ContribuicaoAnual'][i])\n",
    "    rend = \"{:.2f}\".format(df['RendimentoAnual'][i])\n",
    "    port = \"{:.2f}\".format(df['Portabilidade'][i])\n",
    "    \n",
    "    context = {'fam': fam,'ben': ben,'data': data,'mes': mes,\n",
    "               'cont': cont,'rend': rend,'port':port,'nome':nome}\n",
    "    doc.render(context)\n",
    "    \n",
    "    word_path = f'{word}{CPF}.docx'\n",
    "    \n",
    "    \n",
    "    doc.save(word_path)\n",
    "    convert(word_path, pdf_path)\n",
    "    \n",
    "    out = PdfWriter()\n",
    "    pdf_path_encrypted = f'{pdf_path}{CPF}.pdf'\n",
    "    file = PdfReader(pdf_path_encrypted) \n",
    "    num = len(file.pages)\n",
    "    \n",
    "    for idx in range(num):\n",
    "        page = file.pages[idx] \n",
    "        out.add_page(page)\n",
    "        \n",
    "    password = CPF[-4:]\n",
    "    out.encrypt(password)\n",
    "    \n",
    "    with open(pdf_path_encrypted, \"wb\") as f: \n",
    "        out.write(f)"
   ]
  },
  {
   "cell_type": "code",
   "execution_count": null,
   "id": "fc6edb66",
   "metadata": {},
   "outputs": [],
   "source": []
  },
  {
   "cell_type": "code",
   "execution_count": 152,
   "id": "6c1957d4",
   "metadata": {},
   "outputs": [
    {
     "ename": "com_error",
     "evalue": "(-2146959355, 'Falha na execução do servidor', None, None)",
     "output_type": "error",
     "traceback": [
      "\u001b[1;31m---------------------------------------------------------------------------\u001b[0m",
      "\u001b[1;31mcom_error\u001b[0m                                 Traceback (most recent call last)",
      "File \u001b[1;32m~\\AppData\\Local\\anaconda3\\Lib\\site-packages\\win32com\\client\\dynamic.py:86\u001b[0m, in \u001b[0;36m_GetGoodDispatch\u001b[1;34m(IDispatch, clsctx)\u001b[0m\n\u001b[0;32m     85\u001b[0m \u001b[38;5;28;01mtry\u001b[39;00m:\n\u001b[1;32m---> 86\u001b[0m     IDispatch \u001b[38;5;241m=\u001b[39m pythoncom\u001b[38;5;241m.\u001b[39mconnect(IDispatch)\n\u001b[0;32m     87\u001b[0m \u001b[38;5;28;01mexcept\u001b[39;00m pythoncom\u001b[38;5;241m.\u001b[39mole_error:\n",
      "\u001b[1;31mcom_error\u001b[0m: (-2147221021, 'Operação não disponível', None, None)",
      "\nDuring handling of the above exception, another exception occurred:\n",
      "\u001b[1;31mcom_error\u001b[0m                                 Traceback (most recent call last)",
      "Cell \u001b[1;32mIn[152], line 7\u001b[0m\n\u001b[0;32m      4\u001b[0m nome \u001b[38;5;241m=\u001b[39m \u001b[38;5;124m'\u001b[39m\u001b[38;5;124mFilipe\u001b[39m\u001b[38;5;124m'\u001b[39m \u001b[38;5;66;03m#df['Nome'][i]\u001b[39;00m\n\u001b[0;32m      5\u001b[0m CPF \u001b[38;5;241m=\u001b[39m \u001b[38;5;124m'\u001b[39m\u001b[38;5;124m12345678912\u001b[39m\u001b[38;5;124m'\u001b[39m \u001b[38;5;66;03m#str(df['CPF'][i])\u001b[39;00m\n\u001b[1;32m----> 7\u001b[0m outlook \u001b[38;5;241m=\u001b[39m win32\u001b[38;5;241m.\u001b[39mDispatch(\u001b[38;5;124m'\u001b[39m\u001b[38;5;124moutlook.application\u001b[39m\u001b[38;5;124m'\u001b[39m)\n\u001b[0;32m      8\u001b[0m email \u001b[38;5;241m=\u001b[39m outlook\u001b[38;5;241m.\u001b[39mCreateItem(\u001b[38;5;241m0\u001b[39m)\n\u001b[0;32m     10\u001b[0m email\u001b[38;5;241m.\u001b[39mTo \u001b[38;5;241m=\u001b[39m address\n",
      "File \u001b[1;32m~\\AppData\\Local\\anaconda3\\Lib\\site-packages\\win32com\\client\\__init__.py:117\u001b[0m, in \u001b[0;36mDispatch\u001b[1;34m(dispatch, userName, resultCLSID, typeinfo, UnicodeToString, clsctx)\u001b[0m\n\u001b[0;32m    115\u001b[0m \u001b[38;5;250m\u001b[39m\u001b[38;5;124;03m\"\"\"Creates a Dispatch based COM object.\"\"\"\u001b[39;00m\n\u001b[0;32m    116\u001b[0m \u001b[38;5;28;01massert\u001b[39;00m UnicodeToString \u001b[38;5;129;01mis\u001b[39;00m \u001b[38;5;28;01mNone\u001b[39;00m, \u001b[38;5;124m\"\u001b[39m\u001b[38;5;124mthis is deprecated and will go away\u001b[39m\u001b[38;5;124m\"\u001b[39m\n\u001b[1;32m--> 117\u001b[0m dispatch, userName \u001b[38;5;241m=\u001b[39m dynamic\u001b[38;5;241m.\u001b[39m_GetGoodDispatchAndUserName(dispatch, userName, clsctx)\n\u001b[0;32m    118\u001b[0m \u001b[38;5;28;01mreturn\u001b[39;00m __WrapDispatch(dispatch, userName, resultCLSID, typeinfo, clsctx\u001b[38;5;241m=\u001b[39mclsctx)\n",
      "File \u001b[1;32m~\\AppData\\Local\\anaconda3\\Lib\\site-packages\\win32com\\client\\dynamic.py:106\u001b[0m, in \u001b[0;36m_GetGoodDispatchAndUserName\u001b[1;34m(IDispatch, userName, clsctx)\u001b[0m\n\u001b[0;32m    103\u001b[0m     \u001b[38;5;66;03m## ??? else userName remains None ???\u001b[39;00m\n\u001b[0;32m    104\u001b[0m \u001b[38;5;28;01melse\u001b[39;00m:\n\u001b[0;32m    105\u001b[0m     userName \u001b[38;5;241m=\u001b[39m \u001b[38;5;28mstr\u001b[39m(userName)\n\u001b[1;32m--> 106\u001b[0m \u001b[38;5;28;01mreturn\u001b[39;00m (_GetGoodDispatch(IDispatch, clsctx), userName)\n",
      "File \u001b[1;32m~\\AppData\\Local\\anaconda3\\Lib\\site-packages\\win32com\\client\\dynamic.py:88\u001b[0m, in \u001b[0;36m_GetGoodDispatch\u001b[1;34m(IDispatch, clsctx)\u001b[0m\n\u001b[0;32m     86\u001b[0m         IDispatch \u001b[38;5;241m=\u001b[39m pythoncom\u001b[38;5;241m.\u001b[39mconnect(IDispatch)\n\u001b[0;32m     87\u001b[0m     \u001b[38;5;28;01mexcept\u001b[39;00m pythoncom\u001b[38;5;241m.\u001b[39mole_error:\n\u001b[1;32m---> 88\u001b[0m         IDispatch \u001b[38;5;241m=\u001b[39m pythoncom\u001b[38;5;241m.\u001b[39mCoCreateInstance(\n\u001b[0;32m     89\u001b[0m             IDispatch, \u001b[38;5;28;01mNone\u001b[39;00m, clsctx, pythoncom\u001b[38;5;241m.\u001b[39mIID_IDispatch\n\u001b[0;32m     90\u001b[0m         )\n\u001b[0;32m     91\u001b[0m \u001b[38;5;28;01melse\u001b[39;00m:\n\u001b[0;32m     92\u001b[0m     \u001b[38;5;66;03m# may already be a wrapped class.\u001b[39;00m\n\u001b[0;32m     93\u001b[0m     IDispatch \u001b[38;5;241m=\u001b[39m \u001b[38;5;28mgetattr\u001b[39m(IDispatch, \u001b[38;5;124m\"\u001b[39m\u001b[38;5;124m_oleobj_\u001b[39m\u001b[38;5;124m\"\u001b[39m, IDispatch)\n",
      "\u001b[1;31mcom_error\u001b[0m: (-2146959355, 'Falha na execução do servidor', None, None)"
     ]
    }
   ],
   "source": [
    "for i in df.index:\n",
    "    \n",
    "    address = df['Email'][i]\n",
    "    nome = df['Nome'][i]\n",
    "    CPF = str(df['CPF'][i])\n",
    "    \n",
    "    outlook = win32.Dispatch('Outlook.Application')\n",
    "    email = outlook.CreateItem(0)\n",
    "\n",
    "    email.To = address\n",
    "    email.Subject = \"Restrospectiva Mais Visão **Teste**\"\n",
    "    email.HTMLBody = f\"\"\"\n",
    "    <p>Olá {nome}, que tal ver sua retrospectiva do Mais Visão?</p>\n",
    "    <p>O arquivo com a sua retrospectiva está anexado.</p>\n",
    "    <p>Para segurança das suas informações use os 4 últimos digitos do seu CPF para abrir este arquivo.</p>    \n",
    "    <p>(((sua senha é: {CPF[-4:]}))).</p>\n",
    "    <p>Espero que o ano que vem seja tão incrível quanto este.</p>\n",
    "    <p>Até lá.</p>\n",
    "\n",
    "    \"\"\"\n",
    "    anexo = f\"C:/Users/R5564655/Desktop/Retrospectiva/Base_PDF/{CPF}.pdf\"\n",
    "    email.Attachments.Add(anexo)\n",
    "    \n",
    "    email.Send()\n",
    "    print('Email enviado')"
   ]
  },
  {
   "cell_type": "code",
   "execution_count": null,
   "id": "586182d3",
   "metadata": {},
   "outputs": [],
   "source": []
  },
  {
   "cell_type": "code",
   "execution_count": null,
   "id": "c8d4305e",
   "metadata": {},
   "outputs": [],
   "source": []
  },
  {
   "cell_type": "code",
   "execution_count": 101,
   "id": "e36a5caf",
   "metadata": {},
   "outputs": [],
   "source": [
    "#def convert_to_pdf(doc):\n",
    "#        word = win32.DispatchEx('Word.Application')\n",
    "#        new_name = doc.replace('.docx',r'.pdf')\n",
    "#        worddoc = word.Documents.Open(doc)\n",
    "#        worddoc.SaveAs(new_name,FileFormat=17)\n",
    "#        worddoc.Close()\n",
    "#        return None\n",
    "#    path_word = os.path.join(os.getcwd(),output_name)\n",
    "#    convert_to_pdf(path_word)"
   ]
  },
  {
   "cell_type": "code",
   "execution_count": null,
   "id": "d4b594b8",
   "metadata": {},
   "outputs": [],
   "source": []
  }
 ],
 "metadata": {
  "kernelspec": {
   "display_name": "Python 3 (ipykernel)",
   "language": "python",
   "name": "python3"
  },
  "language_info": {
   "codemirror_mode": {
    "name": "ipython",
    "version": 3
   },
   "file_extension": ".py",
   "mimetype": "text/x-python",
   "name": "python",
   "nbconvert_exporter": "python",
   "pygments_lexer": "ipython3",
   "version": "3.11.4"
  }
 },
 "nbformat": 4,
 "nbformat_minor": 5
}
